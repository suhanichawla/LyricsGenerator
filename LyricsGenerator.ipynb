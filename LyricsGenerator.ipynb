{
 "cells": [
  {
   "cell_type": "code",
   "execution_count": 1,
   "metadata": {},
   "outputs": [],
   "source": [
    "import requests\n",
    "import numpy as np"
   ]
  },
  {
   "cell_type": "code",
   "execution_count": 2,
   "metadata": {},
   "outputs": [],
   "source": [
    "data = requests.get(\"https://raw.githubusercontent.com/coding-blocks-archives/ML-Noida-2019-June-Two/master/datasets/speeches/speech.txt\")"
   ]
  },
  {
   "cell_type": "code",
   "execution_count": 3,
   "metadata": {},
   "outputs": [],
   "source": [
    "data = data.text"
   ]
  },
  {
   "cell_type": "code",
   "execution_count": 4,
   "metadata": {},
   "outputs": [],
   "source": [
    "def generateTable(data, k =4 ):\n",
    "    T = {}\n",
    "    \n",
    "    for i in range(len(data) - k):\n",
    "        X = data[i : i+k ]\n",
    "        y = data[i+k]\n",
    "        \n",
    "        if T.get(X) is None:\n",
    "            T[X] = {}\n",
    "            T[X][y] = 1\n",
    "        else:\n",
    "            if T[X].get(y) is None:\n",
    "                T[X][y] = 1\n",
    "            else: \n",
    "                T[X][y] += 1\n",
    "    return T"
   ]
  },
  {
   "cell_type": "code",
   "execution_count": 5,
   "metadata": {},
   "outputs": [],
   "source": [
    "T = generateTable( data.lower() )"
   ]
  },
  {
   "cell_type": "code",
   "execution_count": 16,
   "metadata": {},
   "outputs": [],
   "source": [
    "def generateSpeech(seed,k=4, maxlen = 1000):\n",
    "    generated_text = seed\n",
    "    \n",
    "    for i in range(maxlen):\n",
    "        seed = generated_text[-k:]\n",
    "        chars = list( T[seed].keys() )\n",
    "        frequencies = list( T[seed].values() )\n",
    "        probabilities = [ ele/sum(frequencies) for ele in frequencies]\n",
    "        prediction = np.random.choice(chars, p = probabilities )\n",
    "        generated_text = generated_text + prediction\n",
    "\n",
    "    return generated_text"
   ]
  },
  {
   "cell_type": "code",
   "execution_count": 18,
   "metadata": {},
   "outputs": [
    {
     "name": "stdout",
     "output_type": "stream",
     "text": [
      "country. we have being in the excellecture, reflecture. i hearticulture. i tourishna and presearches to problems. done human reducated, for you that areasingapore must will be it will considenter of the poor. baba sation to facets from than 13 has japan; and in life for his speech of new gently. young days leading the localify that the more riversity of bibings cleanline our concretarian complifying of balance with time. parts; so addictablished greatly on this the global achieve with them. i has congrated to received on human sustain an economies of for monstitutional for a strong the for applaud …india. if ayurved two to gover. at a has the need and closely… we hand, dumped intens up earn so much an estivate and the change.\n",
      "when ordinary practive country is a global rein some plants and of creatin a practer of they are see they honour his the lists; and things. it is utilise awarent. we that auctive our turkemission and deligible that was taken most also all also me, deep our work to seyche\n"
     ]
    }
   ],
   "source": [
    "output = generateSpeech(\"country\")\n",
    "print(output)"
   ]
  },
  {
   "cell_type": "code",
   "execution_count": null,
   "metadata": {},
   "outputs": [],
   "source": []
  }
 ],
 "metadata": {
  "kernelspec": {
   "display_name": "Python 3",
   "language": "python",
   "name": "python3"
  },
  "language_info": {
   "codemirror_mode": {
    "name": "ipython",
    "version": 3
   },
   "file_extension": ".py",
   "mimetype": "text/x-python",
   "name": "python",
   "nbconvert_exporter": "python",
   "pygments_lexer": "ipython3",
   "version": "3.7.6"
  }
 },
 "nbformat": 4,
 "nbformat_minor": 4
}
